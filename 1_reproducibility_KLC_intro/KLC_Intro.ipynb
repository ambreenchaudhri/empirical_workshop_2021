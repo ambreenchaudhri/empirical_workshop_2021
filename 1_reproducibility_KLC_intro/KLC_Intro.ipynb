{
 "cells": [
  {
   "cell_type": "markdown",
   "metadata": {},
   "source": [
    "# <font color=blue>_Week 1 - Introduction to KLC_</font>"
   ]
  },
  {
   "cell_type": "markdown",
   "metadata": {},
   "source": [
    "This notebook provides basic shell commands to use on the Kellogg Linux Cluster (KLC).\n",
    "\n",
    "For your reference, we provide some additional Linux commands on the Research Support website here: \n",
    "https://www.kellogg.northwestern.edu/research-support/computing/kellogg-linux-cluster/linux-tips.aspx\n",
    "\n",
    "For week 1, this notebook primarily serves as a reference for topics covered during the Zoom session.\n"
   ]
  },
  {
   "cell_type": "markdown",
   "metadata": {},
   "source": [
    "## Cloning a Github Repo\n",
    "\n",
    "In order to follow along with each subsequent workshop, you will need to setup a github account at https://github.com/. \n",
    "\n",
    "From a terminal window, type the following in KLC to clone the repo for this workshop:\n",
    "```bash\n",
    "$ git clone https://github.com/rs-kellogg/empirical_workshop_2021 \n",
    "```\n",
    "Thereafter, you will be prompted to enter your username and password, so please do this outside of this notebook.\n",
    "\n",
    "In order to make changes to the contents, please fork the original github repo and type the following to use it on KLC:\n",
    "\n",
    "\n",
    "```bash\n",
    "$ git clone https://github.com/<username>/empirical_workshop_2021 \n",
    "```"
   ]
  },
  {
   "cell_type": "markdown",
   "metadata": {},
   "source": [
    "## Changing Directories\n",
    "\n",
    "A jupyter notebook will enable you to run python commands on KLC. In order to run shell commands, please type \"!\" in front of those lines (as shown below).\n",
    "\n",
    "By default, you are in your home directory on KLC.  Please navigate to the folder for Week 1 by typing:"
   ]
  },
  {
   "cell_type": "code",
   "execution_count": null,
   "metadata": {},
   "outputs": [],
   "source": [
    "# change directories \n",
    "!cd <directory name here>\n",
    "!cd ~ # go to your home directory\n",
    "!cd.. # go one folder up"
   ]
  },
  {
   "cell_type": "code",
   "execution_count": null,
   "metadata": {},
   "outputs": [],
   "source": [
    "# change directories to the week 1 folder\n",
    "!cd /home/<net ID>/empirical_workshop_2021/1_reproducibility_KLC_Intro "
   ]
  },
  {
   "cell_type": "markdown",
   "metadata": {},
   "source": [
    "## See Working Directory\n",
    "\n",
    "You can see the present working directory you are in with the following:"
   ]
  },
  {
   "cell_type": "code",
   "execution_count": null,
   "metadata": {},
   "outputs": [],
   "source": [
    "!pwd"
   ]
  },
  {
   "cell_type": "markdown",
   "metadata": {},
   "source": [
    "## List Directory Contents\n",
    "\n",
    "To list the contents of this folder, type:"
   ]
  },
  {
   "cell_type": "code",
   "execution_count": null,
   "metadata": {},
   "outputs": [],
   "source": [
    "!ls"
   ]
  },
  {
   "cell_type": "markdown",
   "metadata": {},
   "source": [
    "# Using Python on KLC\n",
    "\n",
    "No modules are prelaoded on KLC. You will have to load anything you'd like to use.\n",
    "\n",
    "To see the different versions of python are available outside of this notebook, type:\n",
    "\n",
    "```bash\n",
    "$ module avail python \n",
    "```\n",
    "\n",
    "To run python outside of this notebook, please load it.\n",
    "\n",
    "```bash\n",
    "$ module load python/anaconda3.6\n",
    "```\n",
    "\n",
    "You can view or make basic changes to any file with the nano editor.  For instance, view the time.py file by typing:\n",
    "```bash\n",
    "$ nano time.py\n",
    "```\n",
    "\n",
    "Thereafter, you can run a python file by typing the word \"python\" before the file's name:\n",
    "\n",
    "```bash\n",
    "$ python time.py\n",
    "```\n",
    "\n",
    "To stop a file, type CTRL + C,\n",
    "\n",
    "Today, we will use a basic file that returns the time every 20 seconds:"
   ]
  },
  {
   "cell_type": "code",
   "execution_count": null,
   "metadata": {},
   "outputs": [],
   "source": [
    "# libraries used\n",
    "import time\n",
    "\n",
    "# print the time after every 20 seconds\n",
    "for i in range(10000):\n",
    "    print(\"The time is now: \" + time.strftime(\"%X\") + \". Time flies when you are on KLC.\")\n",
    "    time.sleep(20)\n",
    "    \n",
    "# In this notebook, you can stop this code by pressing the \n",
    "# black square above to interrupt the kernel.\n"
   ]
  },
  {
   "cell_type": "markdown",
   "metadata": {},
   "source": [
    "# Continue a Process after Logging Off\n",
    "\n",
    "To continue running processes after logging off KLC, you can launch a job through the FastX web browser. The web browser will open a session (Terminal, Stata, R, SAS, etc.) in a new tab. If you close the tab without terminating the job, said process will continue to run after you log off KLC.\n",
    "\n",
    "Likewise, you can use the _nohup_ command in a Terminal session. The _nohup_ command executes a program specified as its argument in the background, while ignoring hangup signals (like signing off KLC.) To use _nohup_, type:\n",
    "\n",
    "```bash\n",
    "$ nohup <command> &\n",
    "```\n",
    "\n",
    "The output of this command will be saved to a _nohup.out_ file. You can see the jobs you have running on a given node by typing:\n",
    "\n",
    "```bash\n",
    "$ ps -U <netID>\n",
    "```\n",
    "\n",
    "This command returns a list of processes and their corresponding IDs.  To terminate a _nohup_ job, type:\n",
    "\n",
    "```bash\n",
    "$ kill <Process_ID>\n",
    "```\n",
    "More information on _nohup_ is provided here: https://linuxize.com/post/linux-nohup-command/\n",
    "\n",
    "Lastly, you can also use the _screen_ command from a Terminal session by typing:\n",
    "\n",
    "```bash\n",
    "$ screen\n",
    "```\n",
    "\n",
    "This opens a new session on the node.  Typing CTRL A + D will exit the screen session. You can list your screen sessions with:\n",
    "\n",
    "```bash\n",
    "$ screen -ls\n",
    "```\n",
    "\n",
    "This provides a list of screen sessions with IDs. To terminate a screen session, type:\n",
    "\n",
    "```bash\n",
    "$ screen -X -S <ID> quit\n",
    "```\n",
    "\n",
    "More information on _screen_ is available here: https://linuxize.com/post/how-to-use-linux-screen/\n",
    "\n",
    "\n",
    "\n",
    "\n"
   ]
  },
  {
   "cell_type": "markdown",
   "metadata": {},
   "source": [
    "# Version Control - commit changes to files back to github\n",
    "\n",
    "In the nano editor, we can changes the time to every 10 seconds in the time.py file.\n",
    "\n",
    "```bash\n",
    "$ nano time.py\n",
    "```"
   ]
  },
  {
   "cell_type": "code",
   "execution_count": null,
   "metadata": {},
   "outputs": [],
   "source": [
    "# libraries used\n",
    "import time\n",
    "\n",
    "# print the time after every 10 seconds\n",
    "for i in range(10000):\n",
    "    print(\"The time is now: \" + time.strftime(\"%X\") + \". Time flies when you are on KLC.\")\n",
    "    time.sleep(10)"
   ]
  },
  {
   "cell_type": "markdown",
   "metadata": {},
   "source": [
    "You can save the changes you make to files in your github repo by typing:\n",
    "\n",
    "```bash\n",
    "$ git add time.py\n",
    "$ git commit -m \"Every 10 seconds.\"\n",
    "$ git push\n",
    "```"
   ]
  },
  {
   "cell_type": "markdown",
   "metadata": {},
   "source": [
    "Finally, you can check the status of your github repo, with the following:\n",
    "    \n",
    "```bash\n",
    "$ git status\n",
    "```"
   ]
  },
  {
   "cell_type": "markdown",
   "metadata": {},
   "source": [
    "# Using R on KLC\n",
    "\n",
    "Much like python, you will need to load R to use it on KLC.\n",
    "\n",
    "```bash\n",
    "$ module load R/4.0.0 \n",
    "```\n",
    "\n",
    "We will look at a file that produces basic regression output and returns a time series figure.To view the file, type:\n",
    "\n",
    "```bash\n",
    "$ nano swiss.R\n",
    "```\n",
    "\n",
    "To run R script from KLC type:\n",
    "\n",
    "```bash\n",
    "$ Rscript swiss.R\n",
    "```\n",
    "\n",
    "You can also launch an R GUI in Rstudio, with the following:\n",
    "\n",
    "```bash\n",
    "$ module load R/4.0.0\n",
    "$ rstudio\n",
    "```"
   ]
  },
  {
   "cell_type": "markdown",
   "metadata": {},
   "source": [
    "# Transfering files with Cyberduck\n",
    "\n",
    "To install Cyberduck, go to: https://cyberduck.io/download/ \n",
    "\n",
    "To access KLC from Cyberduck:\n",
    " - Select Open Connection\n",
    " - Select SFTP\n",
    " - server: klc01.ci.northwestern.edu \n",
    " - Type your Net ID\n",
    " - Type your Net ID password"
   ]
  },
  {
   "cell_type": "markdown",
   "metadata": {},
   "source": [
    "# Checking the status of processes on KLC\n",
    "\n",
    "You can check how many processes are running on a KLC node by typing:\n",
    "\n",
    "```bash\n",
    "$ top\n",
    "```\n",
    "\n",
    "To list your processes, type:\n",
    "\n",
    "```bash\n",
    "$ ps -U <your net ID>\n",
    "```\n",
    "\n",
    "This will provide a list of processes and their IDs.  To stop a process by ID, type:\n",
    "\n",
    "```bash\n",
    "$ kill -f <process ID>\n",
    "```"
   ]
  }
 ],
 "metadata": {
  "kernelspec": {
   "display_name": "Python 3",
   "language": "python",
   "name": "python3"
  },
  "language_info": {
   "codemirror_mode": {
    "name": "ipython",
    "version": 3
   },
   "file_extension": ".py",
   "mimetype": "text/x-python",
   "name": "python",
   "nbconvert_exporter": "python",
   "pygments_lexer": "ipython3",
   "version": "3.7.4"
  }
 },
 "nbformat": 4,
 "nbformat_minor": 2
}
